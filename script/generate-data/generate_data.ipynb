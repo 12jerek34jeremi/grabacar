{
 "cells": [
  {
   "cell_type": "code",
   "execution_count": 623,
   "metadata": {},
   "outputs": [],
   "source": [
    "import json\n",
    "import datetime\n",
    "import dateutil\n",
    "from types import SimpleNamespace\n",
    "\n",
    "import faker\n",
    "import pandas as pd\n",
    "from sqlalchemy import create_engine, URL\n",
    "from sqlalchemy.ext.automap import automap_base\n",
    "from sqlalchemy.orm import Session\n",
    "from sqlalchemy import sql\n",
    "\n",
    "DB_CONFIG_FILE = \"config.json\"  # Ignored by git!\n",
    "INSERT_DRY_RUN = False"
   ]
  },
  {
   "attachments": {},
   "cell_type": "markdown",
   "metadata": {},
   "source": [
    "\n",
    "TODO extract magic numbers\n",
    "TODO generate remaining data"
   ]
  },
  {
   "cell_type": "code",
   "execution_count": 624,
   "metadata": {},
   "outputs": [],
   "source": [
    "with open(DB_CONFIG_FILE, mode='r') as fp:\n",
    "    DB_CONFIG = json.load(fp, object_hook=lambda x: SimpleNamespace(**x))\n",
    "\n",
    "db_url = URL.create(\n",
    "    drivername=\"mysql\",\n",
    "    username=DB_CONFIG.db_username,\n",
    "    password=DB_CONFIG.db_password,\n",
    "    host=DB_CONFIG.db_host,\n",
    "    database=DB_CONFIG.db_database,\n",
    "    port=DB_CONFIG.db_port\n",
    ")\n",
    "engine = create_engine(db_url)\n",
    "session = Session(engine)\n",
    "\n",
    "Base = automap_base()\n",
    "Base.prepare(autoload_with=engine)\n",
    "\n",
    "queries = {name: session.query(table).filter(sql.false()) for name, table in Base.metadata.tables.items()}\n",
    "dfs = {name: pd.read_sql(query.statement, engine) for name, query in queries.items()}"
   ]
  },
  {
   "cell_type": "code",
   "execution_count": 625,
   "metadata": {},
   "outputs": [],
   "source": [
    "def append_to_df(name: str, new_lines: pd.DataFrame) -> None:\n",
    "    # RIP SOLID\n",
    "    print(f\"Generating \\\"{name}\\\" [{len(new_lines.index)}] done\")\n",
    "    assert str(new_lines.columns) == str(dfs[name].columns)\n",
    "    dfs[name] = pd.concat([dfs[name], new_lines])"
   ]
  },
  {
   "cell_type": "code",
   "execution_count": 626,
   "metadata": {},
   "outputs": [],
   "source": [
    "fake = faker.Faker('pl_PL')"
   ]
  },
  {
   "attachments": {},
   "cell_type": "markdown",
   "metadata": {},
   "source": [
    "employee positions"
   ]
  },
  {
   "cell_type": "code",
   "execution_count": 627,
   "metadata": {},
   "outputs": [],
   "source": [
    "# employee_positions = pd.DataFrame([\n",
    "#     [0, 'mechanic', 'maintains vehicles'],\n",
    "#     [1, 'admin', 'keeps the system running']\n",
    "# ], columns=['id', 'position_name', 'description'])\n",
    "# append_to_df('employee_position', employee_positions)"
   ]
  },
  {
   "attachments": {},
   "cell_type": "markdown",
   "metadata": {},
   "source": [
    "employees"
   ]
  },
  {
   "cell_type": "code",
   "execution_count": 628,
   "metadata": {},
   "outputs": [],
   "source": [
    "# employees = pd.DataFrame(\n",
    "#     [(i, fake.first_name(), fake.last_name(), 0) for i in range(17)] + [(i, fake.first_name(), fake.last_name(), 1)\n",
    "#                                                                         for i in range(17, 20, 1)],\n",
    "#     columns=['id', 'name', 'surname', 'employee_position_id']\n",
    "# )\n",
    "# append_to_df('employee', employees)"
   ]
  },
  {
   "attachments": {},
   "cell_type": "markdown",
   "metadata": {},
   "source": [
    "customers"
   ]
  },
  {
   "cell_type": "code",
   "execution_count": 629,
   "metadata": {},
   "outputs": [],
   "source": [
    "# customers = pd.DataFrame(\n",
    "#     [(i, fake.first_name(), fake.last_name()) for i in range(3000)],\n",
    "#     columns=['id', 'name', 'surname']\n",
    "# )\n",
    "# append_to_df('customer', customers)"
   ]
  },
  {
   "attachments": {},
   "cell_type": "markdown",
   "metadata": {},
   "source": [
    "driving licences"
   ]
  },
  {
   "cell_type": "code",
   "execution_count": 630,
   "metadata": {},
   "outputs": [],
   "source": [
    "# fake_drv_lic_number = lambda: f\"{fake.random.randint(0, 9999):04}/{fake.random.randint(0, 99):02}/{fake.random.randint(0, 9999):04}\"\n",
    "# fake_drv_lic = lambda category, number: pd.DataFrame(\n",
    "#     [(customer_id,\n",
    "#       fake_drv_lic_number(),\n",
    "#       category,\n",
    "#       start_d.strftime(\"%d.%m.%Y\"),\n",
    "#       (start_d + dateutil.relativedelta.relativedelta(years=15)).strftime(\"%d.%m.%Y\"))\n",
    "#      for customer_id, start_d in zip(\n",
    "#         customers.sample(number)['id'].sort_values(),\n",
    "#         [fake.date_between(datetime.date(2008, 2, 21), datetime.date(2023, 5, 16)) for _ in range(number)])],\n",
    "#     columns=['customer_id', 'drivers_license_number', 'drivers_license_category', 'valid_from', 'valid_until']\n",
    "# )\n",
    "# driving_licences = pd.concat([\n",
    "#     fake_drv_lic('B', int(3000 * 0.98)),\n",
    "#     pd.concat([fake_drv_lic(cat, int(3000 * 0.03)) for cat in ('A', 'BE', 'C')]),\n",
    "#     pd.concat([fake_drv_lic(cat, int(3000 * 0.001)) for cat in\n",
    "#                ('M', 'B1', 'C1', 'D1', 'D', 'C1E', 'CE', 'D1E', 'DE', 'T', 'F')])\n",
    "# ])\n",
    "# append_to_df('driving_licence', driving_licences)"
   ]
  },
  {
   "attachments": {},
   "cell_type": "markdown",
   "metadata": {},
   "source": [
    "car_type"
   ]
  },
  {
   "cell_type": "code",
   "execution_count": 631,
   "metadata": {},
   "outputs": [
    {
     "name": "stdout",
     "output_type": "stream",
     "text": [
      "Generating \"car_type\" [8] done\n"
     ]
    }
   ],
   "source": [
    "car_type = pd.DataFrame(['Hatchback', 'Kombi', 'Sedan', 'Liftback', 'Van', 'SUV', 'Crossover', 'Coupe'], columns=['name'])\n",
    "append_to_df('car_type', car_type)"
   ]
  },
  {
   "attachments": {},
   "cell_type": "markdown",
   "metadata": {},
   "source": [
    "brand"
   ]
  },
  {
   "cell_type": "code",
   "execution_count": 632,
   "metadata": {},
   "outputs": [
    {
     "name": "stdout",
     "output_type": "stream",
     "text": [
      "Generating \"brand\" [34] done\n"
     ]
    }
   ],
   "source": [
    "brand = pd.DataFrame(['Toyota', 'Volkswagen', 'Ford', 'Honda', 'Nissan', 'Hyundai', 'Chevrolet', 'Kia',\n",
    "'Mercedes', 'BMW', 'Fiat', 'Opel', 'Peugeot', 'Citroen', 'Audi', 'Skoda', 'Volvo', 'Mazda', 'Seat',\n",
    "'Suzuki', 'Mitsubishi', 'Land Rover', 'Jeep', 'Porsche', 'Alfa Romeo', 'Chrysler', 'Jaguar', 'Ferrari', 'Infiniti', \n",
    "'Lexus', 'Dacia', 'Mini', 'Smart', 'Renault'], columns=['name'])\n",
    "append_to_df('brand', brand)"
   ]
  },
  {
   "attachments": {},
   "cell_type": "markdown",
   "metadata": {},
   "source": [
    "parameter"
   ]
  },
  {
   "cell_type": "code",
   "execution_count": 633,
   "metadata": {},
   "outputs": [
    {
     "name": "stdout",
     "output_type": "stream",
     "text": [
      "Generating \"parameter\" [8] done\n"
     ]
    }
   ],
   "source": [
    "parameter = pd.DataFrame([\n",
    "    [0, 'color', 'color', 's'],\n",
    "    [1, 'drive_type', 'drive type', 's'],\n",
    "    [2, 'engine_capacity', 'engine capacity', 'f'],\n",
    "    [3, 'engine_power', 'engine_power', 'i'],\n",
    "    [4, 'fuel_type', 'fuel type', 's'],\n",
    "    [5, 'gearbox_type', 'gearbox type', 's'],\n",
    "    [6, 'mileage', 'mileage', 'i'],\n",
    "    [7, 'seat_number', 'seat number', 'i']], \n",
    "    columns=['id', 'name', 'description', 'type'])\n",
    "append_to_df('parameter', parameter)"
   ]
  },
  {
   "attachments": {},
   "cell_type": "markdown",
   "metadata": {},
   "source": [
    "model"
   ]
  },
  {
   "cell_type": "code",
   "execution_count": 634,
   "metadata": {},
   "outputs": [
    {
     "name": "stdout",
     "output_type": "stream",
     "text": [
      "Generating \"model\" [29] done\n"
     ]
    }
   ],
   "source": [
    "model = pd.DataFrame([\n",
    "    [0, 'Astra', 'B', 'Opel', 'Hatchback'],\n",
    "    [1, '3', 'B', 'Mazda', 'Sedan'],\n",
    "    [2, 'A4', 'B', 'Audi', 'Sedan'],\n",
    "    [3, 'A6', 'B', 'Audi', 'Sedan'],\n",
    "    [4, 'Punto', 'B', 'Fiat', 'Hatchback'],\n",
    "    [5, 'Civic', 'B', 'Honda', 'Hatchback'],\n",
    "    [6, 'Focus', 'B', 'Ford', 'Hatchback'],\n",
    "    [7, 'Golf', 'B', 'Volkswagen', 'Hatchback'],\n",
    "    [8, 'Passat', 'B', 'Volkswagen', 'Sedan'],\n",
    "    [9, 'Clio', 'B', 'Renault', 'Hatchback'],\n",
    "    [10, 'Megane', 'B', 'Renault', 'Hatchback'],\n",
    "    [11, 'Corolla', 'B', 'Toyota', 'Hatchback'],\n",
    "    [12, 'Yaris', 'B', 'Toyota', 'Hatchback'],\n",
    "    [13, 'Auris', 'B', 'Toyota', 'Hatchback'],\n",
    "    [14, 'Avensis', 'B', 'Toyota', 'Sedan'],\n",
    "    [15, 'Ceed', 'B', 'Kia', 'Hatchback'],\n",
    "    [16, 'Rio', 'B', 'Kia', 'Hatchback'],\n",
    "    [17, 'S40', 'B', 'Volvo', 'Sedan'],\n",
    "    [18, 'V40', 'B', 'Volvo', 'Hatchback'],\n",
    "    [19, 'V50', 'B', 'Volvo', 'Hatchback'],\n",
    "    [20, 'XC60', 'B', 'Volvo', 'SUV'],\n",
    "    [21, 'XC70', 'B', 'Volvo', 'SUV'],\n",
    "    [22, 'C4', 'B', 'Citroen', 'Hatchback'],\n",
    "    [23, 'C5', 'B', 'Citroen', 'Sedan'],\n",
    "    [24, 'C6', 'B', 'Citroen', 'Sedan'],\n",
    "    [25, 'Qashqai', 'B', 'Nissan', 'SUV'],\n",
    "    [26, 'Juke', 'B', 'Nissan', 'SUV'],\n",
    "    [27, 'Micra', 'B', 'Nissan', 'Hatchback'],\n",
    "    [28, 'Note', 'B', 'Nissan', 'Hatchback']],\n",
    "    columns=['id', 'name', 'licence_type_required', 'car_brand_name', 'car_type_name']\n",
    ")\n",
    "append_to_df('model', model)"
   ]
  },
  {
   "attachments": {},
   "cell_type": "markdown",
   "metadata": {},
   "source": [
    "model_parameter"
   ]
  },
  {
   "cell_type": "code",
   "execution_count": 635,
   "metadata": {},
   "outputs": [
    {
     "name": "stdout",
     "output_type": "stream",
     "text": [
      "Generating \"model_parameter\" [87] done\n"
     ]
    }
   ],
   "source": [
    "model_parameter = pd.DataFrame(\n",
    "    [[i, 'red', None, i, 0] for i in range (0, 29)] +\n",
    "    [[i+33, 'manual', None, i, 1] for i in range(29)] +\n",
    "    [[i+66, None, 5, i, 7] for i in range (29)],\n",
    "    columns=['id', 'text_value', 'numerical_value', 'model_id', 'parameter_id']\n",
    ")\n",
    "\n",
    "append_to_df('model_parameter', model_parameter)"
   ]
  },
  {
   "cell_type": "code",
   "execution_count": 636,
   "metadata": {},
   "outputs": [
    {
     "data": {
      "text/plain": [
       "[[0, 'red', None, 0, 0], [1, 'red', None, 1, 0]]"
      ]
     },
     "execution_count": 636,
     "metadata": {},
     "output_type": "execute_result"
    }
   ],
   "source": [
    "[[i, 'red', None, i, 0] for i in range(2)]"
   ]
  },
  {
   "cell_type": "code",
   "execution_count": 637,
   "metadata": {},
   "outputs": [],
   "source": [
    "# ['brand', 'car', 'model', 'car_type', 'customer', 'driving_licence', 'employee', 'employee_position', 'insurance', 'invoice', 'model_parameter', 'parameter', 'registration_certificate', 'rental_order', 'technical_inspection'])\n",
    "adding_queue = ['parameter', 'brand', 'car_type', 'model', 'model_parameter']"
   ]
  },
  {
   "attachments": {},
   "cell_type": "markdown",
   "metadata": {},
   "source": [
    "## Execute"
   ]
  },
  {
   "cell_type": "code",
   "execution_count": 638,
   "metadata": {},
   "outputs": [
    {
     "name": "stdout",
     "output_type": "stream",
     "text": [
      "====================== GENERATE DATA =======================\n",
      "========================== INSERT ==========================\n",
      "INSERT to \"parameter\" affected 8 rows\n",
      "INSERT to \"brand\" affected 34 rows\n",
      "INSERT to \"car_type\" affected 8 rows\n",
      "INSERT to \"model\" affected 29 rows\n",
      "INSERT to \"model_parameter\" affected 87 rows\n",
      "=========================== END ============================\n"
     ]
    }
   ],
   "source": [
    "print(\" GENERATE DATA \".center(60, '='))\n",
    "print(\" INSERT \".center(60, '='))\n",
    "\n",
    "for name in adding_queue:\n",
    "    df = dfs[name]\n",
    "    aff_rows = df.to_sql(name=name,\n",
    "                         con=engine,\n",
    "                         if_exists='append',\n",
    "                         index=False,\n",
    "                         method='multi' if not INSERT_DRY_RUN else lambda pd_table, conn, keys, data_iter: len(\n",
    "                             list(data_iter)))\n",
    "    print(f\"{'[DRY RUN] ' if INSERT_DRY_RUN else ''}INSERT to \\\"{name}\\\" affected {aff_rows} rows\")\n",
    "\n",
    "print(\" END \".center(60, '='))"
   ]
  }
 ],
 "metadata": {
  "kernelspec": {
   "display_name": "bd2_env",
   "language": "python",
   "name": "python3"
  },
  "language_info": {
   "codemirror_mode": {
    "name": "ipython",
    "version": 3
   },
   "file_extension": ".py",
   "mimetype": "text/x-python",
   "name": "python",
   "nbconvert_exporter": "python",
   "pygments_lexer": "ipython3",
   "version": "3.11.1"
  },
  "orig_nbformat": 4
 },
 "nbformat": 4,
 "nbformat_minor": 2
}
